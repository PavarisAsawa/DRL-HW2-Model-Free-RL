{
 "cells": [
  {
   "cell_type": "markdown",
   "metadata": {},
   "source": [
    "# **Part 1: Setting up `Cart-Pole` Agent.**"
   ]
  },
  {
   "cell_type": "markdown",
   "metadata": {},
   "source": [
    "- `Name` : **Pavaris Asawakijtananont**\n",
    "- `Number` : 65340500037"
   ]
  },
  {
   "cell_type": "markdown",
   "metadata": {},
   "source": [
    "## **1. RL Base class**"
   ]
  },
  {
   "cell_type": "markdown",
   "metadata": {},
   "source": [
    "### **Constructor** "
   ]
  },
  {
   "cell_type": "markdown",
   "metadata": {},
   "source": [
    "### **Core Function**"
   ]
  },
  {
   "cell_type": "markdown",
   "metadata": {},
   "source": [
    "From the Cart-Pole environment configuration file, we found that the observation space of the Cart-Pole consists of four components:\n",
    "\n",
    "1. Relative joint velocity of the cart.\n",
    "2. Relative joint velocity of the pole.\n",
    "3. Relative joint position of the cart.\n",
    "4. Relative joint position of the pole.\n",
    "\n",
    "Each component is continuous and has an $\\infty$ range, which results in high computational costs and an excessively large number of states. To discretize the observation state, we must first determine the complete range of values in the environment. Some of these parameters can be obtained from the Cart-Pole configuration file."
   ]
  },
  {
   "cell_type": "markdown",
   "metadata": {},
   "source": [
    "```python\n",
    "CARTPOLE_CFG = ArticulationCfg(\n",
    "    spawn=sim_utils.UsdFileCfg(\n",
    "        usd_path=f\"{ISAACLAB_NUCLEUS_DIR}/Robots/Classic/Cartpole/cartpole.usd\",\n",
    "        rigid_props=sim_utils.RigidBodyPropertiesCfg(\n",
    "            rigid_body_enabled=True,\n",
    "            max_linear_velocity=1000.0,\n",
    "            max_angular_velocity=1000.0,\n",
    "            max_depenetration_velocity=100.0,\n",
    "            enable_gyroscopic_forces=True,\n",
    "        ),\n",
    "        articulation_props=sim_utils.ArticulationRootPropertiesCfg(\n",
    "            enabled_self_collisions=False,\n",
    "            solver_position_iteration_count=4,\n",
    "            solver_velocity_iteration_count=0,\n",
    "            sleep_threshold=0.005,\n",
    "            stabilization_threshold=0.001,\n",
    "        ),\n",
    "    ),\n",
    "    init_state=ArticulationCfg.InitialStateCfg(\n",
    "        pos=(0.0, 0.0, 2.0), joint_pos={\"slider_to_cart\": 0.0, \"cart_to_pole\": 0.0}\n",
    "    ),\n",
    "    actuators={\n",
    "        \"cart_actuator\": ImplicitActuatorCfg(\n",
    "            joint_names_expr=[\"slider_to_cart\"],\n",
    "            effort_limit=400.0,\n",
    "            velocity_limit=100.0,\n",
    "            stiffness=0.0,\n",
    "            damping=10.0,\n",
    "        ),\n",
    "        \"pole_actuator\": ImplicitActuatorCfg(\n",
    "            joint_names_expr=[\"cart_to_pole\"], effort_limit=400.0, velocity_limit=100.0, stiffness=0.0, damping=0.0\n",
    "        ),\n",
    "    },\n",
    ")\n",
    "```"
   ]
  },
  {
   "cell_type": "markdown",
   "metadata": {},
   "source": [
    "1. `pose_cart` : cart position we can set up on termination condition and we must have tolerance before terminate\n",
    "2. `pose_pol` : Isaac Sim have angle between **[ -$\\pi$ , $\\pi$ ]**\n",
    "3. `vel_cart` : velocity of cart is determine by `velocity_limit` of joint `slider_to_cart` is **[-100 , 100]**\n",
    "4. `vel_pol` : actuator set in **100 rad/s** "
   ]
  }
 ],
 "metadata": {
  "language_info": {
   "name": "python"
  }
 },
 "nbformat": 4,
 "nbformat_minor": 2
}
