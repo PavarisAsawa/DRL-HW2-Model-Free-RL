{
 "cells": [
  {
   "cell_type": "markdown",
   "metadata": {},
   "source": [
    "# **Part 1: Setting up `Cart-Pole` Agent.**"
   ]
  },
  {
   "cell_type": "markdown",
   "metadata": {},
   "source": [
    "- `Name` : **Pavaris Asawakijtananont**\n",
    "- `Number` : 65340500037"
   ]
  },
  {
   "cell_type": "markdown",
   "metadata": {},
   "source": [
    "## **1. RL Base class**"
   ]
  },
  {
   "cell_type": "markdown",
   "metadata": {},
   "source": [
    "### **Constructor** "
   ]
  },
  {
   "cell_type": "markdown",
   "metadata": {},
   "source": [
    "### **Core Function**"
   ]
  },
  {
   "cell_type": "markdown",
   "metadata": {},
   "source": [
    "From the Cart-Pole environment configuration file, we found that the observation space of the Cart-Pole consists of four components:\n",
    "\n",
    "1. Relative joint velocity of the cart.\n",
    "2. Relative joint velocity of the pole.\n",
    "3. Relative joint position of the cart.\n",
    "4. Relative joint position of the pole.\n",
    "\n",
    "Each component is continuous and has an $\\infty$ range, which results in high computational costs and an excessively large number of states. To discretize the observation state, we must first determine the complete range of values in the environment. Some of these parameters can be obtained from the Cart-Pole configuration file."
   ]
  },
  {
   "cell_type": "markdown",
   "metadata": {},
   "source": [
    "```python\n",
    "CARTPOLE_CFG = ArticulationCfg(\n",
    "    spawn=sim_utils.UsdFileCfg(\n",
    "        usd_path=f\"{ISAACLAB_NUCLEUS_DIR}/Robots/Classic/Cartpole/cartpole.usd\",\n",
    "        rigid_props=sim_utils.RigidBodyPropertiesCfg(\n",
    "            rigid_body_enabled=True,\n",
    "            max_linear_velocity=1000.0,\n",
    "            max_angular_velocity=1000.0,\n",
    "            max_depenetration_velocity=100.0,\n",
    "            enable_gyroscopic_forces=True,\n",
    "        ),\n",
    "        articulation_props=sim_utils.ArticulationRootPropertiesCfg(\n",
    "            enabled_self_collisions=False,\n",
    "            solver_position_iteration_count=4,\n",
    "            solver_velocity_iteration_count=0,\n",
    "            sleep_threshold=0.005,\n",
    "            stabilization_threshold=0.001,\n",
    "        ),\n",
    "    ),\n",
    "    init_state=ArticulationCfg.InitialStateCfg(\n",
    "        pos=(0.0, 0.0, 2.0), joint_pos={\"slider_to_cart\": 0.0, \"cart_to_pole\": 0.0}\n",
    "    ),\n",
    "    actuators={\n",
    "        \"cart_actuator\": ImplicitActuatorCfg(\n",
    "            joint_names_expr=[\"slider_to_cart\"],\n",
    "            effort_limit=400.0,\n",
    "            velocity_limit=100.0,\n",
    "            stiffness=0.0,\n",
    "            damping=10.0,\n",
    "        ),\n",
    "        \"pole_actuator\": ImplicitActuatorCfg(\n",
    "            joint_names_expr=[\"cart_to_pole\"], effort_limit=400.0, velocity_limit=100.0, stiffness=0.0, damping=0.0\n",
    "        ),\n",
    "    },\n",
    ")\n",
    "```"
   ]
  },
  {
   "cell_type": "markdown",
   "metadata": {},
   "source": [
    "1. `pose_cart` : cart position we can set up on termination condition and we must have tolerance before terminate **[ -$\\pi$ , $\\pi$ ]** \n",
    "2. `pose_pol` : Isaac Sim have angle between **[ -$\\pi$ , $\\pi$ ]**\n",
    "3. `vel_cart` : velocity of cart is determine by `velocity_limit` of joint `slider_to_cart` is **[-100 , 100]**\n",
    "4. `vel_pol` : actuator set in **100 rad/s** \n",
    "\n",
    "all parameter must fine-tuning after training because sometime too much range will hard to discretize and too much state"
   ]
  },
  {
   "attachments": {
    "image.png": {
     "image/png": "[encoded data removed]"
    }
   },
   "cell_type": "markdown",
   "metadata": {},
   "source": [
    "![image.png](attachment:image.png)"
   ]
  },
  {
   "cell_type": "markdown",
   "metadata": {},
   "source": [
    "test , observation term start from 1 term , etc"
   ]
  },
  {
   "cell_type": "markdown",
   "metadata": {},
   "source": [
    "#### **discretize_state(self , obs)**\n",
    "\n",
    "- Discretizes and scales the state based on observation weights.\n",
    "- to approximate state from continuos domain to discrete domain to estimate the state"
   ]
  },
  {
   "cell_type": "markdown",
   "metadata": {},
   "source": [
    "```python\n",
    "\n",
    "    def discretize_state(self, obs: dict):\n",
    "        \n",
    "        # define number of value\n",
    "        pose_cart_bin = self.discretize_state_weight[0]\n",
    "        pose_pole_bin = self.discretize_state_weight[1]\n",
    "        vel_cart_bin = self.discretize_state_weight[2]\n",
    "        vel_pole_bin = self.discretize_state_weight[3]\n",
    "\n",
    "        # Clipping value\n",
    "        pose_cart_bound = 4.5\n",
    "        pose_pole_bound = np.pi\n",
    "        vel_cart_bound = 10\n",
    "        vel_pole_bound = 10\n",
    "        \n",
    "        # get observation term from continuos space\n",
    "        pose_cart_raw, pose_pole_raw , vel_cart_raw , vel_pole_raw = obs['policy'][0, 0] , obs['policy'][0, 1] , obs['policy'][0, 2] , obs['policy'][0, 3]\n",
    "\n",
    "        pose_cart_clip = torch.clip(pose_cart_raw , -pose_cart_bound ,pose_cart_bound)\n",
    "        pose_pole_clip = torch.clip(pose_pole_raw , -pose_pole_bound ,pose_pole_bound)\n",
    "        vel_cart_clip = torch.clip(vel_cart_raw , -vel_cart_bound ,vel_cart_bound)\n",
    "        vel_pole_clip = torch.clip(vel_pole_raw , -vel_pole_bound ,vel_pole_bound)\n",
    "\n",
    "        device = pose_cart_clip.device\n",
    "\n",
    "        # linspace value\n",
    "        pose_cart_grid = torch.linspace(-pose_cart_bound , pose_cart_bound , pose_cart_bin , device=device)\n",
    "        pose_pole_grid = torch.linspace(-pose_pole_bound , pose_pole_bound , pose_pole_bin , device=device)\n",
    "        vel_cart_grid = torch.linspace(-vel_cart_bound , vel_cart_bound , vel_cart_bin , device=device)\n",
    "        vel_pole_grid = torch.linspace(-vel_pole_bound , vel_pole_bound , vel_pole_bin , device=device)\n",
    "\n",
    "        # digitalize to range\n",
    "        pose_cart_dig = torch.bucketize(pose_cart_clip,pose_cart_grid)\n",
    "        pose_pole_dig = torch.bucketize(pose_pole_clip,pose_pole_grid)\n",
    "        vel_cart_dig = torch.bucketize(vel_cart_clip,vel_cart_grid)\n",
    "        vel_pose_dig = torch.bucketize(vel_pole_clip,vel_pole_grid)\n",
    "\n",
    "        return ( int(pose_cart_dig), int(pose_pole_dig), int(vel_cart_dig),  int(vel_pose_dig))\n",
    "\n",
    "```"
   ]
  },
  {
   "cell_type": "markdown",
   "metadata": {},
   "source": [
    "1. Define the number of bins for each variable in discrete space:\n",
    "    - The observation consists of four continuous variables:\n",
    "        - pose_cart (cart position)\n",
    "        - pose_pole (pole angle)\n",
    "        - vel_cart (cart velocity)\n",
    "        - vel_pole (pole angular velocity)\n",
    "    - The number of bins for each variable is determined by `self.discretize_state_weight`, which contains the bin count for each variable.\n",
    "\n",
    "2. Define maximum boundary values for clipping:\n",
    "    - To prevent extreme values from distorting the discretization process, we clip each variable to a fixed range:\n",
    "\n",
    "3. Clip the continuous values to the defined boundaries:\n",
    "    - The function extracts continuous values from `obs['policy']` and ensures they stay within the predefined range using `torch.clip()`. This prevents values from exceeding the expected range.\n",
    "\n",
    "4. Create uniform grids for discretization:\n",
    "    - Using `torch.linspace()`, the function generates evenly spaced grid points that divide the clipped continuous space into discrete bins. Each variable's range is divided into a specified number of bins.\n",
    "\n",
    "5. Discretize (bucketize) the continuous values into uniform ranges:\n",
    "    - `torch.bucketize()` assigns the clipped continuous values to their respective bins.\n",
    "    This ensures each variable is mapped to an integer index starting from 0, making it suitable for discrete RL algorithms.\n",
    "    Return the discrete state tuple:\n",
    "\n",
    "6. The function returns a tuple, each representing a discretized version of the original continuous state."
   ]
  },
  {
   "cell_type": "markdown",
   "metadata": {},
   "source": [
    "#### **get_discretize_action(self, obs_dis)**"
   ]
  },
  {
   "cell_type": "markdown",
   "metadata": {},
   "source": [
    "- Get the action index or action in the discrete domain from the policy by using the `Epsilon-Greedy`. This method selects an action either by exploring (choosing a random action with probability ε) or by exploiting (choosing the action with the highest reward with probability 1 - ε)"
   ]
  },
  {
   "cell_type": "markdown",
   "metadata": {},
   "source": [
    "```python\n",
    "    def get_discretize_action(self, obs_dis) -> int:\n",
    "        rand = np.random.rand() # random with unitform distribution\n",
    "\n",
    "        if(rand <= self.epsilon): # Exploration [Random action]\n",
    "            return np.random.randint(0, self.num_of_action)\n",
    "        elif (rand > self.epsilon): # Exploitation [Greedy action]\n",
    "            return np.argmax(self.q_values[obs_dis]) \n",
    "```"
   ]
  },
  {
   "cell_type": "markdown",
   "metadata": {},
   "source": [
    "- Get discrete state input to select the action\n",
    "- random a value to compare with epsilon to selects policy\n",
    "    - if **Exploration** or equal-less than epsilon : \n",
    "        - random action with random action policy\n",
    "    - else if **Exploitation** : \n",
    "        - using learning policy to select action by find a current optimal value by searching maximum action value "
   ]
  },
  {
   "cell_type": "markdown",
   "metadata": {},
   "source": [
    "#### **mapping_action(self, action)**"
   ]
  },
  {
   "cell_type": "markdown",
   "metadata": {},
   "source": [
    "- Maps a discrete action in range [0, n] to a continuous value in [action_min, action_max]"
   ]
  },
  {
   "cell_type": "markdown",
   "metadata": {},
   "source": [
    "```python\n",
    "    def mapping_action(self, action):\n",
    "        \"\"\"\n",
    "        Maps a discrete action in range [0, n] to a continuous value in [action_min, action_max].\n",
    "\n",
    "        Args:\n",
    "            action (int): Discrete action in range [0, n]\n",
    "            n (int): Number of discrete actions\n",
    "        \n",
    "        Returns:\n",
    "            torch.Tensor: Scaled action tensor.\n",
    "        \"\"\"\n",
    "        # ========= put your code here =========#\n",
    "        return torch.tensor([[action * ((self.action_range[1] - self.action_range[0]) / (self.num_of_action-1 )) + self.action_range[0]]])\n",
    "```"
   ]
  },
  {
   "cell_type": "markdown",
   "metadata": {},
   "source": [
    "#### **decay_epsilon(self)**"
   ]
  },
  {
   "cell_type": "markdown",
   "metadata": {},
   "source": [
    "- Decreases epsilon over time and returns the updated value.\n",
    "\n",
    "```python\n",
    "    def decay_epsilon(self):\n",
    "        \"\"\"\n",
    "        Decay epsilon value to reduce exploration over time.\n",
    "        \"\"\"\n",
    "        self.epsilon = max(self.final_epsilon ,self.epsilon-self.epsilon_decay)\n",
    "```\n"
   ]
  },
  {
   "cell_type": "markdown",
   "metadata": {},
   "source": [
    "---"
   ]
  },
  {
   "cell_type": "markdown",
   "metadata": {},
   "source": [
    "## **2. Learning Algorithm**"
   ]
  },
  {
   "cell_type": "markdown",
   "metadata": {},
   "source": [
    "### **Monte Carlo class**"
   ]
  },
  {
   "cell_type": "markdown",
   "metadata": {},
   "source": [
    "- Monte Carlo is updating always update value after episode is ending\n",
    "    - episode will end when **`env.step(action)`** return `terminate` or `truncate`"
   ]
  },
  {
   "cell_type": "markdown",
   "metadata": {},
   "source": [
    "```python\n",
    "    def update(self,obs_dis,action_idx,reward,done):\n",
    "        self.obs_hist.append(obs_dis)\n",
    "        self.action_hist.append(action_idx)\n",
    "        self.reward_hist.append(reward)\n",
    "        \n",
    "        if done:\n",
    "            G_cum = 0 # return\n",
    "            for t in range(len(self.obs_hist) - 1, -1, -1): # Loop from the last state to the first state [T-1, T-2, ..., 0]\n",
    "                G_cum = self.discount_factor * G_cum + self.reward_hist[t]\n",
    "                if (self.obs_hist[t], self.action_hist[t]) not in list(zip(self.obs_hist[:t], self.action_hist[:t])):   # if First Visit\n",
    "                    self.n_values[self.obs_hist[t]][self.action_hist[t]] += 1\n",
    "                    self.q_values[self.obs_hist[t]][self.action_hist[t]] += (G_cum - self.q_values[self.obs_hist[t]][self.action_hist[t]]) / self.n_values[self.obs_hist[t]][self.action_hist[t]]\n",
    "                    \n",
    "            self.obs_hist.clear()\n",
    "            self.action_hist.clear()\n",
    "            self.reward_hist.clear()\n",
    "```"
   ]
  },
  {
   "cell_type": "markdown",
   "metadata": {},
   "source": [
    "- At the end of an episode, we need to reset the cumulative return to 0 and loop in reverse to compute the actual return from the agent's experience.\n",
    "- When the agent visits a state for the first time in an episode, it must increment the state count and update the action value using the default action value update equation. However, there are special conditions for updating, such as not updating at every step.\n",
    "\n",
    "$$\n",
    "Q(S_t,A_t) = Q(S_t,A_t) +  \\frac{G_t - q(S_t,A_t)}{N(S_t,A_t)}\n",
    "$$\n"
   ]
  },
  {
   "cell_type": "markdown",
   "metadata": {},
   "source": [
    "### **SARSA class**"
   ]
  },
  {
   "cell_type": "markdown",
   "metadata": {},
   "source": [
    "- SARSA is updating policy every timestep to improve policy by using boostraping next state from experience"
   ]
  },
  {
   "cell_type": "markdown",
   "metadata": {},
   "source": [
    "```python\n",
    "    def update(self,obs_dis,action_idx,reward,next_obs_dis,done):\n",
    "        if done: # not boostraping\n",
    "            self.q_values[obs_dis][action_idx] += self.lr * (reward - self.q_values[obs_dis][action_idx])\n",
    "        else:\n",
    "            _next_action_idx = self.get_discretize_action(next_obs_dis)\n",
    "            self.q_values[obs_dis][action_idx] += self.lr * (reward + self.discount_factor * self.q_values[next_obs_dis][_next_action_idx] - self.q_values[obs_dis][action_idx])\n",
    "        pass\n",
    "\n",
    "```"
   ]
  },
  {
   "cell_type": "markdown",
   "metadata": {},
   "source": [
    "- if episode is not terminate will boostrapping and update q value with temperal differnce term"
   ]
  },
  {
   "cell_type": "markdown",
   "metadata": {},
   "source": [
    "---"
   ]
  },
  {
   "cell_type": "markdown",
   "metadata": {},
   "source": [
    "**First Run**\n",
    "Q Learning\n",
    "```python\n",
    "    # hyperparameters\n",
    "    num_of_action = 10\n",
    "    action_range = [-5, 5]  # [min, max]\n",
    "    discretize_state_weight = [10, 20, 10, 10]  # [pose_cart:int, pose_pole:int, vel_cart:int, vel_pole:int]\n",
    "    learning_rate = 0.3\n",
    "    n_episodes = 5000\n",
    "    start_epsilon = 1.0\n",
    "    epsilon_decay = 0.001  # reduce the exploration over time\n",
    "    final_epsilon = 0.05\n",
    "    discount = 1\n",
    "```\n",
    "\n",
    "- agent sometime tried to force cart to make pole to center but  often agent is do nothing\n",
    "- when see in q value json file I can see most of state is not explore by agent\n",
    "\n",
    "\n",
    "**Run 2**\n",
    "```python\n",
    "    # hyperparameters\n",
    "    num_of_action = 4\n",
    "    action_range = [-3, 3]  # [min, max]\n",
    "    discretize_state_weight = [8, 12, 4, 4]  # [pose_cart:int, pose_pole:int, vel_cart:int, vel_pole:int]\n",
    "    learning_rate = 0.3\n",
    "    n_episodes = 3000\n",
    "    start_epsilon = 1.0\n",
    "    epsilon_decay = 0.001  # reduce the exploration over time\n",
    "    final_epsilon = 0.05\n",
    "    discount = 1\n",
    "```\n"
   ]
  },
  {
   "cell_type": "markdown",
   "metadata": {},
   "source": [
    "---\n"
   ]
  },
  {
   "cell_type": "markdown",
   "metadata": {},
   "source": [
    "QL RUN 3 OVER SPACE"
   ]
  }
 ],
 "metadata": {
  "language_info": {
   "name": "python"
  }
 },
 "nbformat": 4,
 "nbformat_minor": 2
}
