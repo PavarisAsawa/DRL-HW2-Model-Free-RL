{
 "cells": [
  {
   "cell_type": "markdown",
   "metadata": {},
   "source": [
    "# **Part 2: Trainning & Playing to stabilize Cart-Pole Agent.**"
   ]
  },
  {
   "cell_type": "markdown",
   "metadata": {},
   "source": [
    "- `Name` : **Pavaris Asawakijtananont**\n",
    "- `Number` : 65340500037"
   ]
  },
  {
   "cell_type": "markdown",
   "metadata": {},
   "source": [
    "## **Q-Learning**"
   ]
  },
  {
   "cell_type": "markdown",
   "metadata": {},
   "source": [
    "number 0"
   ]
  },
  {
   "cell_type": "markdown",
   "metadata": {},
   "source": [
    "Training agent with Q-Learning algorithm. we start from small space of state and action space. with following config\n",
    "\n",
    "**Q_5**\n",
    "\n",
    "```python\n",
    "    num_of_action = 5\n",
    "    action_range = [-12, 12]  # [min, max]\n",
    "    discretize_state_weight = [4, 8, 4, 4]  # [pose_cart:int, pose_pole:int, vel_cart:int, vel_pole:int]\n",
    "    learning_rate = 0.03\n",
    "    n_episodes = 5000\n",
    "    start_epsilon = 1.0\n",
    "    epsilon_decay = 0.00003 # reduce the exploration over time\n",
    "    final_epsilon = 0.05\n",
    "    discount = 1\n",
    "```\n",
    "\n",
    "with boundary\n",
    "```python\n",
    "    pose_cart_bound = 3\n",
    "    pose_pole_bound = float(np.deg2rad(24.0))\n",
    "    vel_cart_bound = 15\n",
    "    vel_pole_bound = 15\n",
    "```\n",
    "\n"
   ]
  },
  {
   "cell_type": "markdown",
   "metadata": {},
   "source": [
    "**cartpole can stbilize but can change direction and suddenly change direction**"
   ]
  },
  {
   "cell_type": "markdown",
   "metadata": {},
   "source": [
    "---"
   ]
  },
  {
   "cell_type": "markdown",
   "metadata": {},
   "source": [
    "SARSA\n",
    "\n",
    "same config not work at all"
   ]
  },
  {
   "cell_type": "markdown",
   "metadata": {},
   "source": [
    "MC\n",
    "need tuning too"
   ]
  }
 ],
 "metadata": {
  "language_info": {
   "name": "python"
  }
 },
 "nbformat": 4,
 "nbformat_minor": 2
}
